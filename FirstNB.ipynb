{
 "cells": [
  {
   "cell_type": "code",
   "execution_count": 1,
   "id": "1afa1fc4",
   "metadata": {},
   "outputs": [
    {
     "name": "stdout",
     "output_type": "stream",
     "text": [
      "hello world\n"
     ]
    }
   ],
   "source": [
    "print(\"hello world\")"
   ]
  },
  {
   "cell_type": "markdown",
   "id": "919cdcc4",
   "metadata": {},
   "source": [
    "# This is The Title To My First Notebook For This Course"
   ]
  },
  {
   "cell_type": "markdown",
   "id": "22e99c3a",
   "metadata": {},
   "source": [
    "*In this course I hope to learn Cloud Computing*"
   ]
  },
  {
   "cell_type": "markdown",
   "id": "015fe353",
   "metadata": {},
   "source": [
    "**I am looking forward to this course**"
   ]
  },
  {
   "cell_type": "markdown",
   "id": "fac1dcf7",
   "metadata": {},
   "source": [
    "The coordinates are: (x<sub>0</sub>,y<sub>0</sub>)"
   ]
  },
  {
   "cell_type": "code",
   "execution_count": null,
   "id": "835898a4",
   "metadata": {},
   "outputs": [],
   "source": []
  }
 ],
 "metadata": {
  "kernelspec": {
   "display_name": "Python 3 (ipykernel)",
   "language": "python",
   "name": "python3"
  },
  "language_info": {
   "codemirror_mode": {
    "name": "ipython",
    "version": 3
   },
   "file_extension": ".py",
   "mimetype": "text/x-python",
   "name": "python",
   "nbconvert_exporter": "python",
   "pygments_lexer": "ipython3",
   "version": "3.9.7"
  }
 },
 "nbformat": 4,
 "nbformat_minor": 5
}
