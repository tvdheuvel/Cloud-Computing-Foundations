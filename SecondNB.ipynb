{
  "nbformat": 4,
  "nbformat_minor": 0,
  "metadata": {
    "colab": {
      "name": "Untitled0.ipynb",
      "provenance": [],
      "authorship_tag": "ABX9TyO0Y91ozfJT0I85Ra7yQ7LO",
      "include_colab_link": true
    },
    "kernelspec": {
      "name": "python3",
      "display_name": "Python 3"
    },
    "language_info": {
      "name": "python"
    }
  },
  "cells": [
    {
      "cell_type": "markdown",
      "metadata": {
        "id": "view-in-github",
        "colab_type": "text"
      },
      "source": [
        "<a href=\"https://colab.research.google.com/github/tvdheuvel/Cloud-Computing-Foundations/blob/main/SecondNB.ipynb\" target=\"_parent\"><img src=\"https://colab.research.google.com/assets/colab-badge.svg\" alt=\"Open In Colab\"/></a>"
      ]
    },
    {
      "cell_type": "code",
      "execution_count": 2,
      "metadata": {
        "colab": {
          "base_uri": "https://localhost:8080/"
        },
        "id": "6kilKsL9fQJd",
        "outputId": "4fcc63f3-a532-47c6-d35c-3e62f5b0cc46"
      },
      "outputs": [
        {
          "output_type": "stream",
          "name": "stdout",
          "text": [
            "hello world\n"
          ]
        }
      ],
      "source": [
        "print(\"hello world\")"
      ]
    },
    {
      "cell_type": "markdown",
      "source": [
        "# This is The Title To My First Notebook For This Course"
      ],
      "metadata": {
        "id": "jL9ghhsafYxz"
      }
    },
    {
      "cell_type": "markdown",
      "source": [
        "*In this course I hope to learn Cloud Computing*"
      ],
      "metadata": {
        "id": "w4C4DUSJfv9v"
      }
    },
    {
      "cell_type": "markdown",
      "source": [
        "The coordinates are: (x<sub>0</sub>,y<sub>0</sub>)"
      ],
      "metadata": {
        "id": "367sCQjPfxzY"
      }
    },
    {
      "cell_type": "code",
      "source": [
        "x = 2\n",
        "y = 3\n",
        "def add(x,y):\n",
        "  return x + y\n",
        "print(add(x,y))"
      ],
      "metadata": {
        "colab": {
          "base_uri": "https://localhost:8080/"
        },
        "id": "0Cl8AfAAf2JV",
        "outputId": "87a02079-0561-46d4-ba8f-f2329d5aeb8c"
      },
      "execution_count": 4,
      "outputs": [
        {
          "output_type": "stream",
          "name": "stdout",
          "text": [
            "5\n"
          ]
        }
      ]
    }
  ]
}